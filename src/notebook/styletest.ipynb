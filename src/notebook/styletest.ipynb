{
 "cells": [
  {
   "cell_type": "code",
   "source": [
    "from pylab import *\n",
    "k=0\n",
    "x=linspace(0,2*pi,100)\n",
    "y=sin(x)\n",
    "y1=cos(x)\n",
    "for i in style.available:\n",
    "    style.use(i)\n",
    "    title(i)\n",
    "    plot(x,y,'-o')\n",
    "    plot(x,y1,'-+')\n",
    "    k+=1\n",
    "    show()"
   ],
   "metadata": {
    "collapsed": false,
    "pycharm": {
     "name": "#%%\n"
    }
   },
   "outputs": [],
   "execution_count": null
  }
 ],
 "metadata": {
  "kernelspec": {
   "display_name": "Python 3",
   "language": "python",
   "name": "python3"
  },
  "language_info": {
   "codemirror_mode": {
    "name": "ipython",
    "version": 2
   },
   "file_extension": ".py",
   "mimetype": "text/x-python",
   "name": "python",
   "nbconvert_exporter": "python",
   "pygments_lexer": "ipython2",
   "version": "2.7.6"
  }
 },
 "nbformat": 4,
 "nbformat_minor": 0
}
