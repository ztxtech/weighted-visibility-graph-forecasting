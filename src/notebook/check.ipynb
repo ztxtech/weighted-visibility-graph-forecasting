{
 "cells": [
  {
   "cell_type": "code",
   "metadata": {
    "collapsed": true,
    "pycharm": {
     "name": "#%%\n"
    }
   },
   "source": [
    "import numpy as np\n",
    "import pandas as pd\n",
    "from matplotlib import pyplot as plt\n",
    "import src.model.diffTimeSeries as dt\n",
    "from statsmodels.graphics.tsaplots import plot_acf, plot_pacf\n",
    "import statsmodels.api as sm\n",
    "from arch.unitroot import DFGLS\n",
    "from statsmodels.stats.diagnostic import acorr_ljungbox\n",
    "\n",
    "import matplotlib.patheffects as pe\n",
    "plt.style.use('seaborn-whitegrid')\n",
    "plt.rcParams['font.sans-serif']=['Times New Roman'] # 用来正常显示中文标签"
   ],
   "outputs": [],
   "execution_count": null
  },
  {
   "cell_type": "code",
   "metadata": {
    "collapsed": false,
    "pycharm": {
     "name": "#%%\n"
    }
   },
   "source": [
    "df = pd.read_csv(\"./data/cci/data.csv\")\n",
    "data = df[\"Value\"].tolist()\n",
    "date = df[\"Date\"].tolist()"
   ],
   "outputs": [],
   "execution_count": null
  },
  {
   "cell_type": "code",
   "source": [
    "color = [\n",
    "\"#E64B35FF\", \"#4DBBD5FF\", \"#00A087FF\", \"#3C5488FF\", \"#F39B7FFF\", \"#8491B4FF\",\n",
    "\"#91D1C2FF\", \"#DC0000FF\", \"#7E6148FF\", \"#B09C85FF\"]"
   ],
   "metadata": {
    "collapsed": false,
    "pycharm": {
     "name": "#%%\n"
    }
   },
   "outputs": [],
   "execution_count": null
  },
  {
   "cell_type": "code",
   "metadata": {
    "collapsed": false,
    "pycharm": {
     "name": "#%%\n"
    }
   },
   "source": [
    "plt.figure(figsize=(10,3), dpi=300)\n",
    "plt.plot(range(len(data)), data, lw=2, color=color[1], path_effects=[pe.SimpleLineShadow(shadow_color='black'), pe.Normal()])\n",
    "plt.title(\"CCI\")\n",
    "plt.xticks(range(len(data))[::20], date[::20], rotation=30)\n",
    "plt.savefig(\"./out/fig/CCI.pdf\")"
   ],
   "outputs": [],
   "execution_count": null
  },
  {
   "cell_type": "code",
   "metadata": {
    "collapsed": false,
    "pycharm": {
     "name": "#%%\n"
    }
   },
   "source": [
    "sm.tsa.stattools.acf(data, nlags=1, adjusted=True)"
   ],
   "outputs": [],
   "execution_count": null
  },
  {
   "cell_type": "code",
   "source": [
    "acorr_ljungbox(data)"
   ],
   "metadata": {
    "collapsed": false,
    "pycharm": {
     "name": "#%%\n"
    }
   },
   "outputs": [],
   "execution_count": null
  },
  {
   "cell_type": "code",
   "metadata": {
    "collapsed": false,
    "pycharm": {
     "name": "#%%\n"
    }
   },
   "source": [
    "fig, ax = plt.subplots(2, 1)\n",
    "fig.subplots_adjust(hspace=0.5)\n",
    "fig.dpi = 300\n",
    "\n",
    "plot_acf(np.array(data), ax=ax[0])\n",
    "ax[0].set_title('ACF(CCI)')\n",
    "plot_pacf(np.array(data), ax=ax[1])\n",
    "ax[1].set_title('PACF(CCI)')\n",
    "plt.savefig(\"./out/fig/CCI_ana.pdf\")"
   ],
   "outputs": [],
   "execution_count": null
  },
  {
   "cell_type": "code",
   "metadata": {
    "collapsed": false,
    "pycharm": {
     "name": "#%%\n"
    }
   },
   "source": [
    "dfgls = DFGLS(data, trend='ct')\n",
    "print(dfgls.summary().as_text())"
   ],
   "outputs": [],
   "execution_count": null
  },
  {
   "cell_type": "code",
   "metadata": {
    "collapsed": false,
    "pycharm": {
     "name": "#%%\n"
    }
   },
   "source": "diff_ts_l1 = dt.diffTimeSeries(data, date)",
   "outputs": [],
   "execution_count": null
  },
  {
   "cell_type": "code",
   "metadata": {
    "collapsed": false,
    "pycharm": {
     "name": "#%%\n"
    }
   },
   "source": [
    "plt.figure(figsize=(10,3), dpi=200)\n",
    "plt.plot(range(len(diff_ts_l1.diff_series)), diff_ts_l1.diff_series, lw=2, color=color[3], path_effects=[pe.SimpleLineShadow(shadow_color='black'), pe.Normal()])\n",
    "plt.title(\"CCI_diff_level_1\")\n",
    "plt.xticks(range(len(diff_ts_l1.diff_series))[::20], diff_ts_l1.date[::20], rotation=30)\n",
    "plt.savefig(\"./out/fig/CCI_diff.pdf\")"
   ],
   "outputs": [],
   "execution_count": null
  },
  {
   "cell_type": "code",
   "metadata": {
    "collapsed": false,
    "pycharm": {
     "name": "#%%\n"
    }
   },
   "source": [
    "sm.tsa.stattools.acf(diff_ts_l1.diff_series, nlags=1, adjusted=True)"
   ],
   "outputs": [],
   "execution_count": null
  },
  {
   "cell_type": "code",
   "source": [
    "acorr_ljungbox(diff_ts_l1.diff_series)"
   ],
   "metadata": {
    "collapsed": false,
    "pycharm": {
     "name": "#%%\n"
    }
   },
   "outputs": [],
   "execution_count": null
  },
  {
   "cell_type": "code",
   "metadata": {
    "collapsed": false,
    "pycharm": {
     "name": "#%%\n"
    }
   },
   "source": [
    "fig, ax = plt.subplots(2, 1)\n",
    "fig.subplots_adjust(hspace=0.5)\n",
    "fig.dpi = 300\n",
    "\n",
    "plot_acf(np.array(diff_ts_l1.diff_series), ax=ax[0])\n",
    "ax[0].set_title('ACF(CCI_diff_level_1)')\n",
    "plot_pacf(np.array(diff_ts_l1.diff_series), ax=ax[1])\n",
    "ax[1].set_title('PACF(CCI_diff_level_1)')\n",
    "plt.savefig(\"./out/fig/CCI_diff_ana.pdf\")"
   ],
   "outputs": [],
   "execution_count": null
  },
  {
   "cell_type": "code",
   "metadata": {
    "collapsed": false,
    "pycharm": {
     "name": "#%%\n"
    }
   },
   "source": [
    "dfgls = DFGLS(diff_ts_l1.diff_series, trend='ct')\n",
    "print(dfgls.summary().as_text())"
   ],
   "outputs": [],
   "execution_count": null
  }
 ],
 "metadata": {
  "kernelspec": {
   "display_name": "Python 3.9.12 ('venv': venv)",
   "language": "python",
   "name": "python3"
  },
  "language_info": {
   "codemirror_mode": {
    "name": "ipython",
    "version": 3
   },
   "file_extension": ".py",
   "mimetype": "text/x-python",
   "name": "python",
   "nbconvert_exporter": "python",
   "pygments_lexer": "ipython3",
   "version": "3.9.12"
  },
  "vscode": {
   "interpreter": {
    "hash": "bc9ddddd300b82dabc6647812855f2dcbff61604a298b774aacdcea3d3cb561a"
   }
  }
 },
 "nbformat": 4,
 "nbformat_minor": 0
}
